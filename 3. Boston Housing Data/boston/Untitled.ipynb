{
 "cells": [
  {
   "cell_type": "markdown",
   "metadata": {},
   "source": [
    "# Project 3: Predicting Boston Housing Prices"
   ]
  },
  {
   "cell_type": "markdown",
   "metadata": {},
   "source": [
    "In this project, we will evaluate the performance and predictive power of a model that has been trained and tested on data collected from homes in suburbs of Boston, Massachusetts. We train different models on this data and whichever is found a good fit could then be used to make certain predictions about a home — in particular, its monetary value.\n",
    "\n",
    "The dataset is taken from here\n",
    "\n",
    "he Boston housing data was collected in 1978 and each of the 506 entries represent aggregated data about 14 features for homes from various suburbs in Boston, Massachusetts.\n",
    "\n",
    "Following steps have been taken before preprocessing:\n",
    "\n",
    "* 16 data points have an 'MEDV' value of 50.0. These data points contain missing or censored values and have been removed.\n",
    "* 1 data point has an 'RM' value of 8.78. This data point can be considered an outlier and has been removed.\n",
    "* The features 'RM', 'LSTAT', 'PTRATIO', and 'MEDV' are essential. The remaining non-relevant features have been excluded.\n",
    "* The feature 'MEDV' has been multiplicatively scaled to account for 35 years of market inflation.\n",
    "\n"
   ]
  }
 ],
 "metadata": {
  "kernelspec": {
   "display_name": "Python 3",
   "language": "python",
   "name": "python3"
  },
  "language_info": {
   "codemirror_mode": {
    "name": "ipython",
    "version": 3
   },
   "file_extension": ".py",
   "mimetype": "text/x-python",
   "name": "python",
   "nbconvert_exporter": "python",
   "pygments_lexer": "ipython3",
   "version": "3.6.5rc1"
  }
 },
 "nbformat": 4,
 "nbformat_minor": 2
}
