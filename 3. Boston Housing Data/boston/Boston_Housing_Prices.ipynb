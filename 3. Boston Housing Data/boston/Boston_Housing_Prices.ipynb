{
 "cells": [
  {
   "cell_type": "markdown",
   "metadata": {},
   "source": [
    "# Project 3: Predicting Boston Housing Prices\n",
    "\n",
    "In this project, we will evaluate the performance and predictive power of a model that has been trained and tested on data collected from homes in suburbs of Boston, Massachusetts. We train different models on this data and whichever is found a good fit could then be used to make certain predictions about a home — in particular, its monetary value.\n",
    "\n",
    "The dataset is taken from [here](https://www.cs.toronto.edu/~delve/data/datasets.html)\n",
    "\n",
    "The Boston housing data was collected in 1978 and each of the 506 entries represent aggregated data about 14 features for homes from various suburbs in Boston, Massachusetts.\n",
    "\n",
    "Following steps have been taken before preprocessing:\n",
    "\n",
    "* 16 data points have an 'MEDV' value of 50.0. These data points contain missing or censored values and have been removed.\n",
    "* 1 data point has an 'RM' value of 8.78. This data point can be considered an outlier and has been removed.\n",
    "* The features 'RM', 'LSTAT', 'PTRATIO', and 'MEDV' are essential. The remaining non-relevant features have been excluded.\n",
    "* The feature 'MEDV' has been multiplicatively scaled to account for 35 years of market inflation.\n",
    "\n",
    "#### Loading Data and Importing libraries:-"
   ]
  },
  {
   "cell_type": "code",
   "execution_count": 2,
   "metadata": {},
   "outputs": [
    {
     "name": "stdout",
     "output_type": "stream",
     "text": [
      "Boston housing dataset has 489 data points with 4 variables each\n"
     ]
    }
   ],
   "source": [
    "import numpy as np\n",
    "import pandas as pd\n",
    "from sklearn.cross_validation import ShuffleSplit\n",
    "\n",
    "# Pretty display for notebooks\n",
    "%matplotlib inline\n",
    "\n",
    "# Load the Boston housing dataset\n",
    "data = pd.read_csv('housing.csv')\n",
    "prices = data['MEDV']\n",
    "features = data.drop('MEDV', axis = 1)\n",
    "\n",
    "# Success\n",
    "print('Boston housing dataset has {0} data points with {1} variables each'.format(*data.shape))"
   ]
  },
  {
   "cell_type": "code",
   "execution_count": 16,
   "metadata": {},
   "outputs": [
    {
     "name": "stderr",
     "output_type": "stream",
     "text": [
      "c:\\program files\\python36-32\\lib\\site-packages\\sklearn\\learning_curve.py:22: DeprecationWarning: This module was deprecated in version 0.18 in favor of the model_selection module into which all the functions are moved. This module will be removed in 0.20\n",
      "  DeprecationWarning)\n"
     ]
    }
   ],
   "source": [
    "###########################################\n",
    "# Suppress matplotlib user warnings\n",
    "# Necessary for newer version of matplotlib\n",
    "import warnings\n",
    "warnings.filterwarnings(\"ignore\", category = UserWarning, module = \"matplotlib\")\n",
    "###########################################\n",
    "\n",
    "import matplotlib.pyplot as pl\n",
    "import numpy as np\n",
    "import sklearn.learning_curve as curves\n",
    "from sklearn.tree import DecisionTreeRegressor\n",
    "from sklearn.cross_validation import ShuffleSplit, train_test_split\n",
    "\n",
    "def ModelLearning(X, y, clf):\n",
    "    \"\"\" Calculates the performance of several models with varying sizes of training data.\n",
    "        The learning and testing scores for each model are then plotted. \"\"\"\n",
    "    # Create 10 cross-validation sets for training and testing\n",
    "    cv = ShuffleSplit(X.shape[0], n_iter = 10, test_size = 0.2, random_state = 0)\n",
    "    \n",
    "    # Generate the training set sizes increasing by 50\n",
    "    train_sizes = np.rint(np.linspace(1, X.shape[0]*0.8 - 1, 9)).astype(int)\n",
    "\n",
    "    # Create the figure window\n",
    "    fig = pl.figure(figsize=(10,7))\n",
    "\n",
    "    # Create three different models based on max_depth\n",
    "    for k, depth in enumerate([1,3,6,10]):\n",
    "        # Create a Decision tree regressor at max_depth = depth\n",
    "        regressor = clf(max_depth = depth)\n",
    "\n",
    "        # Calculate the training and testing scores\n",
    "        sizes, train_scores, test_scores = curves.learning_curve(regressor, X, y, cv = cv, train_sizes = train_sizes, scoring = 'r2')\n",
    "        \n",
    "        # Find the mean and standard deviation for smoothing\n",
    "        train_std = np.std(train_scores, axis = 1)\n",
    "        train_mean = np.mean(train_scores, axis = 1)\n",
    "        test_std = np.std(test_scores, axis = 1)\n",
    "        test_mean = np.mean(test_scores, axis = 1)\n",
    "\n",
    "        # Subplot the learning curve \n",
    "        ax = fig.add_subplot(2, 2, k+1)\n",
    "        ax.plot(sizes, train_mean, 'o-', color = 'r', label = 'Training Score')\n",
    "        ax.plot(sizes, test_mean, 'o-', color = 'g', label = 'Testing Score')\n",
    "        ax.fill_between(sizes, train_mean - train_std, train_mean + train_std, alpha = 0.15, color = 'r')\n",
    "        ax.fill_between(sizes, test_mean - test_std, test_mean + test_std, alpha = 0.15, color = 'g')\n",
    "\n",
    "        # Labels\n",
    "        ax.set_title('max_depth = %s'%(depth))\n",
    "        ax.set_xlabel('Number of Training Points')\n",
    "        ax.set_ylabel('Score')\n",
    "        ax.set_xlim([0, X.shape[0]*0.8])\n",
    "        ax.set_ylim([-0.05, 1.05])\n",
    "\n",
    "    # Visual aesthetics\n",
    "    ax.legend(bbox_to_anchor=(1.05, 2.05), loc='lower left', borderaxespad = 0.)\n",
    "    fig.suptitle('Decision Tree Regressor Learning Performances', fontsize = 16, y = 1.03)\n",
    "    fig.tight_layout()\n",
    "    pl.show()\n",
    "\n",
    "def ModelComplexity(X, y, clf):\n",
    "    \"\"\" Calculates the performance of the model as model complexity increases.\n",
    "        The learning and testing errors rates are then plotted. \"\"\"\n",
    "    \n",
    "    # Create 10 cross-validation sets for training and testing\n",
    "    cv = ShuffleSplit(X.shape[0], n_iter = 10, test_size = 0.2, random_state = 0)\n",
    "\n",
    "    # Vary the max_depth parameter from 1 to 10\n",
    "    max_depth = np.arange(1,11)\n",
    "\n",
    "    # Calculate the training and testing scores\n",
    "    train_scores, test_scores = curves.validation_curve(clf(), X, y, \\\n",
    "        param_name = \"max_depth\", param_range = max_depth, cv = cv, scoring = 'r2')\n",
    "\n",
    "    # Find the mean and standard deviation for smoothing\n",
    "    train_mean = np.mean(train_scores, axis=1)\n",
    "    train_std = np.std(train_scores, axis=1)\n",
    "    test_mean = np.mean(test_scores, axis=1)\n",
    "    test_std = np.std(test_scores, axis=1)\n",
    "\n",
    "    # Plot the validation curve\n",
    "    pl.figure(figsize=(7, 5))\n",
    "    pl.title('Decision Tree Regressor Complexity Performance')\n",
    "    pl.plot(max_depth, train_mean, 'o-', color = 'r', label = 'Training Score')\n",
    "    pl.plot(max_depth, test_mean, 'o-', color = 'g', label = 'Validation Score')\n",
    "    pl.fill_between(max_depth, train_mean - train_std, train_mean + train_std, alpha = 0.15, color = 'r')\n",
    "    pl.fill_between(max_depth, test_mean - test_std, test_mean + test_std, alpha = 0.15, color = 'g')\n",
    "\n",
    "    # Visual aesthetics\n",
    "    pl.legend(loc = 'lower right')\n",
    "    pl.xlabel('Maximum Depth')\n",
    "    pl.ylabel('Score')\n",
    "    pl.ylim([-0.05,1.05])\n",
    "    pl.show()\n",
    "\n",
    "\n",
    "def PredictTrials(X, y, fitter, data):\n",
    "    \"\"\" Performs trials of fitting and predicting data. \"\"\"\n",
    "\n",
    "    # Store the predicted prices\n",
    "    prices = []\n",
    "\n",
    "    for k in range(10):\n",
    "        # Split the data\n",
    "        X_train, X_test, y_train, y_test = train_test_split(X, y, test_size = 0.2, random_state = k)\n",
    "\n",
    "        # Fit the data\n",
    "        reg = fitter(X_train, y_train)\n",
    "\n",
    "        # Make a prediction\n",
    "        pred = reg.predict([data[0]])[0]\n",
    "        prices.append(pred)\n",
    "\n",
    "        # Result\n",
    "        print(\"Trial {}: ${:,.2f}\".format(k+1, pred))\n",
    "        \n",
    "    # Display price range\n",
    "    print(\"\\nRange in prices: ${:,.2f}\".format(max(prices) - min(prices)))\n",
    "\n",
    "def plot_decision_regions(X, y, classifier, resolution=0.02):\n",
    "\n",
    "    from matplotlib.colors import ListedColormap\n",
    "\n",
    "    # setup marker generator and color map\n",
    "    markers = ('s', 'x', 'o', '^', 'v')\n",
    "    colors = ('red', 'blue', 'lightgreen', 'gray', 'cyan')\n",
    "    cmap = ListedColormap(colors[:len(np.unique(y))])\n",
    "\n",
    "    # plot the decision surface\n",
    "    x1_min, x1_max = X[:, 0].min() - 1, X[:, 0].max() + 1\n",
    "    x2_min, x2_max = X[:, 1].min() - 1, X[:, 1].max() + 1\n",
    "    xx1, xx2 = np.meshgrid(np.arange(x1_min, x1_max, resolution), np.arange(x2_min, x2_max, resolution))\n",
    "    Z = classifier.predict(np.array([xx1.ravel(), xx2.ravel()]).T)\n",
    "    Z = Z.reshape(xx1.shape)\n",
    "    plt.contourf(xx1, xx2, Z, alpha=0.4, cmap=cmap)\n",
    "    plt.xlim(xx1.min(), xx1.max())\n",
    "    plt.ylim(xx2.min(), xx2.max())\n",
    "\n",
    "    # plot class samples\n",
    "    for idx, cl in enumerate(np.unique(y)):\n",
    "        plt.scatter(x=X[y == cl, 0], y=X[y == cl, 1], alpha=0.8, c=cmap(idx), marker=markers[idx], label=cl)"
   ]
  },
  {
   "cell_type": "markdown",
   "metadata": {},
   "source": [
    "# Data Exploration\n",
    "we need to separate the dataset into **features** and the **target** variable. \n",
    "\n",
    "Features:-\n",
    "* 'RM'\n",
    "* 'LSTAT'\n",
    "* 'PTRATIO'\n",
    "\n",
    "Target variable:-\n",
    "* 'MEDV'\n",
    "\n",
    "### Implementation: Calculate Statistics\n",
    "\n",
    "Implementation: Calculate Statistics\n",
    "\n",
    "In the code cell below, we implement the following:\n",
    "\n",
    "* Calculate the minimum, maximum, mean, median, and standard deviation of 'MEDV', which is stored in prices.\n",
    "* Store each calculation in their respective variable.\n",
    "\n"
   ]
  },
  {
   "cell_type": "code",
   "execution_count": 5,
   "metadata": {},
   "outputs": [
    {
     "name": "stdout",
     "output_type": "stream",
     "text": [
      "Statistics for Boston housing dataset:\n",
      "\n",
      "Minimum price: $105,000.00\n",
      "Maximum price: $1,024,800.00\n",
      "Mean price: $454,342.94\n",
      "Median price $438,900.00\n",
      "Standard deviation of prices: $165,171.13\n",
      "First quartile of prices: $350,700.00\n",
      "Second quartile of prices: $518,700.00\n",
      "Interquartile (IQR) of prices: $168,000.00\n"
     ]
    }
   ],
   "source": [
    "# Minimum price of the data\n",
    "minimum_price = np.min(prices)\n",
    "\n",
    "# Maximum price of the data\n",
    "maximum_price = np.max(prices)\n",
    "\n",
    "# Mean price of the data\n",
    "mean_price = np.mean(prices)\n",
    "\n",
    "# Median price of the data\n",
    "median_price = np.median(prices)\n",
    "\n",
    "# Standard deviation of prices of the data\n",
    "std_price = np.std(prices)\n",
    "\n",
    "# Quartiles\n",
    "first_quartile = np.percentile(prices, 25)\n",
    "third_quartile = np.percentile(prices, 75)\n",
    "inter_quartile = third_quartile - first_quartile\n",
    "\n",
    "# Show the calculated statistics\n",
    "print(\"Statistics for Boston housing dataset:\\n\")\n",
    "print(\"Minimum price: ${:,.2f}\".format(minimum_price))\n",
    "print(\"Maximum price: ${:,.2f}\".format(maximum_price))\n",
    "print(\"Mean price: ${:,.2f}\".format(mean_price))\n",
    "print(\"Median price ${:,.2f}\".format(median_price))\n",
    "print(\"Standard deviation of prices: ${:,.2f}\".format(std_price))\n",
    "print(\"First quartile of prices: ${:,.2f}\".format(first_quartile))\n",
    "print(\"Second quartile of prices: ${:,.2f}\".format(third_quartile))\n",
    "print(\"Interquartile (IQR) of prices: ${:,.2f}\".format(inter_quartile))"
   ]
  },
  {
   "cell_type": "markdown",
   "metadata": {},
   "source": [
    "# Question 1 - Feature Observation\n",
    "\n",
    "As a reminder, we are using three features from the Boston housing dataset: 'RM', 'LSTAT', and 'PTRATIO'. For each data point (neighborhood):\n",
    "\n",
    "* 'RM' is the average number of rooms among homes in the neighborhood.\n",
    "* 'LSTAT' is the percentage of homeowners in the neighborhood considered \"lower class\" (working poor).\n",
    "* 'PTRATIO' is the ratio of students to teachers in primary and secondary schools in the neighborhood.\n",
    "\n",
    "*Using your intuition, for each of the three features above, do you think that an increase in the value of that feature would lead to an increase in the value of 'MEDV' or a decrease in the value of 'MEDV'? Justify your answer for each. Hint: Would you expect a home that has an 'RM' value of 6 be worth more or less than a home that has an 'RM' value of 7?\n",
    "\n",
    "**Answer:** Based on my intuition: \n",
    "**1)** Increasing the average number of rooms(RM) among homes in the neighborhood would increase the MDEV, since homes with more rooms have larger square footages which should raise the overal value of the home. \n",
    "**2)** Increasing the percentage of \"lower class\" homeowners in the neighborhood (LSTAT) should decrease the MDEV, as this could mean that a particular neighborhood is located at an area where lower income/class people live and these people are probably only able to afford lower cost homes. \n",
    "**3)** Increasing the ratio of students to teachers (PTRATIO) would lead to a decrease in MDEV. In general, better school have lower teacher to student ratios, as allows for more access/interaction between a given teacher and a smaller group of students. That being said, most families look for homes in located in neighborhoods with good schools for the benefit of their kids' education, which drives up the prices of the homes in those neighborhoods. Therefore, assuming that increasing the PTRATIO correlates to worse schools in the neighborhood, then the prices of the homes (MDEV) should decrease.\n"
   ]
  },
  {
   "cell_type": "markdown",
   "metadata": {},
   "source": [
    "### Visualization"
   ]
  },
  {
   "cell_type": "code",
   "execution_count": 6,
   "metadata": {},
   "outputs": [
    {
     "data": {
      "image/png": "[encoded data removed]",
      "text/plain": [
       "<Figure size 1440x360 with 3 Axes>"
      ]
     },
     "metadata": {},
     "output_type": "display_data"
    }
   ],
   "source": [
    "# Using pyplot\n",
    "import matplotlib.pyplot as plt\n",
    "plt.figure(figsize=(20, 5))\n",
    "\n",
    "# i: index\n",
    "for i, col in enumerate(features.columns):\n",
    "    # 3 plots here hence 1, 3\n",
    "    plt.subplot(1, 3, i+1)\n",
    "    x = data[col]\n",
    "    y = prices\n",
    "    plt.plot(x, y, 'o')\n",
    "    # Create regression line\n",
    "    plt.plot(np.unique(x), np.poly1d(np.polyfit(x, y, 1))(np.unique(x)))\n",
    "    plt.title(col)\n",
    "    plt.xlabel(col)\n",
    "    plt.ylabel('prices')"
   ]
  },
  {
   "cell_type": "markdown",
   "metadata": {},
   "source": [
    "Reference: Simple guide to [Enumerate](https://www.codecademy.com/en/forum_questions/5087f2d786a27b02000041a9)\n",
    "\n",
    "## Model Development\n",
    "In this section of the project,we will develop the tools and techniques necessary for a model to make a prediction. Being able to make accurate evaluations of each model's performance through the use of these tools and techniques helps to greatly reinforce the confidence in your predictions.\n",
    "\n",
    "### Implementation: Define a Performance Metric\n",
    "It is difficult to measure the quality of a given model without quantifying its performance over training and testing. This is typically done using some type of performance metric, whether it is through calculating some type of error, the goodness of fit, or some other useful measurement. For this project, we will be calculating the \"[coefficient of determination](https://stattrek.com/statistics/dictionary.aspx?definition=coefficient_of_determination)\", R2, to quantify your model's performance. The coefficient of determination for a model is a useful statistic in regression analysis, as it often describes how \"good\" that model is at making predictions.\n",
    "\n",
    "The values for R2 range from 0 to 1, which captures the percentage of squared correlation between the predicted and actual values of the target variable. A model with an R2 of 0 always fails to predict the target variable, whereas a model with an R2 of 1 perfectly predicts the target variable. Any value between 0 and 1 indicates what percentage of the target variable, using this model, can be explained by the features. A model can be given a negative R2 as well, which indicates that the model is no better than one that naively predicts the mean of the target variable.\n",
    "\n",
    "For the performance_metric function in the code cell below, you will need to implement the following:\n",
    "\n",
    "* Use r2_score from sklearn.metrics to perform a performance calculation between y_true and y_predict.\n",
    "* Assign the performance score to the score variable."
   ]
  },
  {
   "cell_type": "code",
   "execution_count": 7,
   "metadata": {},
   "outputs": [],
   "source": [
    "# Import 'r2_score'\n",
    "from sklearn.metrics import r2_score\n",
    "\n",
    "def performance_metric(y_true, y_predict):\n",
    "    \"\"\" Calculates and returns the performance score between \n",
    "        true and predicted values based on the metric chosen. \"\"\"\n",
    "\n",
    "    # TODO: Calculate the performance score between 'y_true' and 'y_predict'\n",
    "    score = r2_score(y_true, y_predict)\n",
    "\n",
    "    # Return the score\n",
    "    return score"
   ]
  },
  {
   "cell_type": "markdown",
   "metadata": {},
   "source": [
    "## Question 2 - Goodness of Fit\n",
    "\n",
    "Assume that a dataset contains five data points and a model made the following predictions for the target variable:\n",
    "\n",
    "| True Value  | Prediction |\n",
    "| ------------- | ------------- |\n",
    "| 3.0  | 2.5  |\n",
    "| -0.5  | 0.0  |\n",
    "| 2.0  | 2.1  |\n",
    "| 7.0  | 7.8  |\n",
    "| 4.2  | 5.3  |"
   ]
  },
  {
   "cell_type": "markdown",
   "metadata": {},
   "source": [
    "*Would you consider this model to have successfully captured the variation of the target variable? Why or why not?\n",
    "\n",
    "Run the code cell below to use the performance_metric function and calculate this model's coefficient of determination."
   ]
  },
  {
   "cell_type": "code",
   "execution_count": 9,
   "metadata": {},
   "outputs": [
    {
     "name": "stdout",
     "output_type": "stream",
     "text": [
      "Model has a coefficient of determination, R^2, of 0.923.\n"
     ]
    }
   ],
   "source": [
    "\n",
    "# Calculate the performance of this model\n",
    "score = performance_metric([3, -0.5, 2, 7, 4.2], [2.5, 0.0, 2.1, 7.8, 5.3])\n",
    "print(\"Model has a coefficient of determination, R^2, of {:.3f}.\".format(score)\n",
    "     )"
   ]
  },
  {
   "cell_type": "markdown",
   "metadata": {},
   "source": [
    "Answer:\n",
    "\n",
    "* R^2 = 92.3%\n",
    "* This implies 92.3% of variation is explained by the target variable and it seems to be high.\n",
    "* Potential pitfall: We only have five points here, and it may be hard to draw conclusion that is statistically significant."
   ]
  },
  {
   "cell_type": "markdown",
   "metadata": {},
   "source": [
    "### Implementation: Shuffle and Split Data\n",
    "We split the Boston housing data into training and testing subsets. Typically, the data is also shuffled into a random order when creating the training and testing subsets to remove any bias in the ordering of the dataset.\n",
    "\n",
    "For the code cell below, we need to implement the following:\n",
    "\n",
    "* Use train_test_split from sklearn.cross_validation to shuffle and split the features and prices data into training and testing sets.\n",
    "    * Split the data into 80% training and 20% testing.\n",
    "    * Set the random_state for train_test_split to a value of your choice. This ensures results are consistent.\n",
    "* Assign the train and testing splits to X_train, X_test, y_train, and y_test."
   ]
  },
  {
   "cell_type": "code",
   "execution_count": 10,
   "metadata": {},
   "outputs": [
    {
     "name": "stdout",
     "output_type": "stream",
     "text": [
      "Training and testing split was successful.\n"
     ]
    }
   ],
   "source": [
    "# Import 'train_test_split'\n",
    "from sklearn.cross_validation import train_test_split\n",
    "\n",
    "# TODO: Shuffle and split the data into training and testing subsets\n",
    "X_train, X_test, y_train, y_test = train_test_split(features, prices, test_size=0.2, random_state=10)\n",
    "\n",
    "# Success\n",
    "print (\"Training and testing split was successful.\")"
   ]
  },
  {
   "cell_type": "code",
   "execution_count": 11,
   "metadata": {},
   "outputs": [
    {
     "name": "stdout",
     "output_type": "stream",
     "text": [
      "489\n",
      "0.7995910020449898\n",
      "0.20040899795501022\n"
     ]
    }
   ],
   "source": [
    "# Check if split is actually correct\n",
    "# We can see it's roughly 80% train and 20% train\n",
    "# So we can proceed!\n",
    "print(features.shape[0])\n",
    "print(float(X_train.shape[0]) / float(features.shape[0]))\n",
    "print(float(X_test.shape[0]) / float(features.shape[0]))"
   ]
  },
  {
   "cell_type": "markdown",
   "metadata": {},
   "source": [
    "## Question 3 - Training and Testing\n",
    "\n",
    "What is the benefit to splitting a dataset into some ratio of training and testing subsets for a learning algorithm?\n",
    "Hint: What could go wrong with not having a way to test your model?\n",
    "\n",
    "Answer:\n",
    "\n",
    "* Motivation: we need a way to choose between machine learning models.\n",
    "     * And our goal is to estimate likely performance of a model on out-of-sample data.\n",
    "* Initial idea: we can train and test on the same data.\n",
    "     * But, maximizing training accuracy rewards overly complex models that overfit the training data.\n",
    "     * As you add more features, you can slowly reach a 100% accuracy but you are not able to generalize well.\n",
    "* Alternative idea: we can use train/test split.\n",
    "     * We can split the dataset into two pieces so that the model can be trained and tested on different data.\n",
    "     * Then, testing accuracy is a better estimate than training accuracy of out-of-sample performance.\n",
    "\n",
    "**This is an extension beyond the scope of the train/test split question, highlighting the issue of high variance simply using train/test split without k-fold cross-validation.**\n",
    "\n",
    "* But we've a big problem with train/test split.\n",
    "     * It provides a high variance estimate since changing which observations happen to be in the testing set can significantly change testing accuracy.\n",
    "     * Testing accuracy can change a lot depending on a which observation happen to be in the testing set.\n",
    "     * Hence we've to use k-fold cross-validation to solve this problem\n",
    "     \n",
    "     \n",
    "## Analyzing Model Performance\n",
    "\n",
    "In this third section of the project, we'll take a look at several models' learning and testing performances on various subsets of training data. Additionally, you'll investigate one particular algorithm with an increasing 'max_depth' parameter on the full training set to observe how model complexity affects performance. Graphing your model's performance based on varying criteria can be beneficial in the analysis process, such as visualizing behavior that may not have been apparent from the results alone.\n",
    "\n",
    "\n",
    "### Learning Curves\n",
    "\n",
    "The following code cell produces four graphs for a decision tree model with different maximum depths. Each graph visualizes the learning curves of the model for both training and testing as the size of the training set is increased. Note that the shaded region of a learning curve denotes the uncertainty of that curve (measured as the standard deviation). The model is scored on both the training and testing sets using R2, the coefficient of determination.\n",
    "\n",
    "Run the code cell below and use these graphs to answer the following question."
   ]
  },
  {
   "cell_type": "code",
   "execution_count": 19,
   "metadata": {},
   "outputs": [
    {
     "data": {
      "image/png": "[encoded data removed]",
      "text/plain": [
       "<Figure size 720x504 with 4 Axes>"
      ]
     },
     "metadata": {},
     "output_type": "display_data"
    }
   ],
   "source": [
    "ModelLearning(features, prices, DecisionTreeRegressor)"
   ]
  },
  {
   "cell_type": "markdown",
   "metadata": {},
   "source": [
    "From the figures above, we can see that the model has better perfomance while max depth = 3 where it got high scores both on training and testing and the more import point is these two scores are close.\n",
    "Typically, the score of the training curve converge to some value as more training points are added and so as testing curve. However, the benefit of adding ‘more data’ has its limitation for fixing certain type of problems of models. As we can see scores all converge to certain value and no more decreasing happened as more data added as four pictures above."
   ]
  },
  {
   "cell_type": "markdown",
   "metadata": {},
   "source": [
    "## Question 4 - Learning the Data\n",
    "\n",
    "*Choose one of the graphs above and state the maximum depth for the model. What happens to the score of the training curve as more training points are added? What about the testing curve? Would having more training points benefit the model?\n",
    "\n",
    "Hint: Are the learning curves converging to particular scores?\n",
    "\n",
    "* max_depth = 1 (High Bias Scenario)\n",
    "     1.  We can see how the testing score (green line) increases with the number of observations.\n",
    "           * However, the testing score only increases to approximately 0.4, a low score.\n",
    "           * This indicates how the model does not generalize well for new, unseen, data.\n",
    "     2.  Moreover, the training score (red line) decreases with the number of observations.\n",
    "          *  Also, the training score decreases to a very low score of approximately 0.4.\n",
    "          *  This indicates how the model does not seem to fit the data well.\n",
    "     3.  Thus, we can say this model is facing a high bias problem. Consequently, having more training points would not benefit the model as the model is underfitting the dataset. Instead, one should increase the model complexity to better fit the dataset.\n",
    "          *  Morever, the teting score has reached a plateau suggesting the model may not improve from adding more training points.\n",
    "\n",
    "**This is an extension explaining the rest of the depths for completeness. I have summarized everything instead of writing in full sentences.**\n",
    "\n",
    "*  max_depth = 3 (Ideal Scenario)\n",
    "      1. Testing score (green line) increases with training points\n",
    "          * Reaches ~0.8\n",
    "          * High score\n",
    "          * Generalize well\n",
    "      2. Training score (red line) decreases slightly with training points\n",
    "          * Reachers ~0.8\n",
    "          * High score\n",
    "          * Fit dataset well\n",
    "      3. There seems to be no high bias or high variance problem\n",
    "          * Model fits and generalizes well\n",
    "          * Ideal\n",
    "          * More training points should help it become an even more ideal model!\n",
    "* max_depth = 10 (High Variance Scenario)\n",
    "     1. Testing score (green line) increases with training points\n",
    "          * Reaches ~0.7\n",
    "          * Not so high score\n",
    "          * Does not generalize well\n",
    "     2. Training score (red line) barely decreases with training points\n",
    "          * At ~1.0\n",
    "          * Almost perfect score\n",
    "          * Overfitting dataset\n",
    "     3. There seems to be a high variance problem\n",
    "          * Overfitting\n",
    "* max_depth = 6 (Slightly High Variance Scenario)\n",
    "     1. Testing score (green line) increases with training points\n",
    "          * Reaches ~0.75\n",
    "          * Not so high score\n",
    "          *  Does not generalize well\n",
    "     2. Training score (red line) decreases slightly with training points\n",
    "           * At ~0.9\n",
    "           * High score\n",
    "           * Overfitting dataset\n",
    "     3. There seems to be a high variance problem\n",
    "           * Overfitting\n",
    "           * More training points might help\n",
    "           * This is getting close to the ideal scenario!\n"
   ]
  },
  {
   "cell_type": "markdown",
   "metadata": {},
   "source": [
    "### Complexity Curves\n",
    "\n",
    "The following code cell produces a graph for a decision tree model that has been trained and validated on the training data using different maximum depths. The graph produces two complexity curves — one for training and one for validation. Similar to the learning curves, the shaded regions of both the complexity curves denote the uncertainty in those curves, and the model is scored on both the training and validation sets using the performance_metric function."
   ]
  },
  {
   "cell_type": "code",
   "execution_count": 18,
   "metadata": {},
   "outputs": [
    {
     "data": {
      "image/png": "[encoded data removed]",
      "text/plain": [
       "<Figure size 504x360 with 1 Axes>"
      ]
     },
     "metadata": {},
     "output_type": "display_data"
    }
   ],
   "source": [
    "ModelComplexity(X_train, y_train, DecisionTreeRegressor)"
   ]
  },
  {
   "cell_type": "markdown",
   "metadata": {},
   "source": [
    "\n",
    "## Question 5 - Bias-Variance Tradeoff\n",
    "\n",
    "When the model is trained with a maximum depth of 1, does the model suffer from high bias or from high variance? How about when the model is trained with a maximum depth of 10? What visual cues in the graph justify your conclusions?\n",
    "\n",
    "**Hint:** How do you know when a model is suffering from high bias or high variance?\n",
    "\n",
    "**Answer:**\n",
    "**Identifying when a model is suffering from high bias or high variance.**\n",
    "\n",
    "   * It is easy to identify whether the model is suffering from a high bias or a high variance.\n",
    "       * High variance models have a gap between the training and validation scores.\n",
    "           * This is because it is able to fit the model well but unable to generalize well resulting in a high training score but low validation score.\n",
    "       * High bias models have have a small or no gap between the training and validations scores.\n",
    "           * This is because it is unable to fit the model well and unable to generalize well resulting in both scores converging to a similar low score.\n",
    "\n",
    "**Maximum depth of 1: High Bias**\n",
    "\n",
    "   * Both training and testing scores are low.\n",
    "   * There is barely a gap between the training and testing scores.\n",
    "   * This indicates the model is not fitting the dataset well and not generalizing well hence the model is suffering from high bias.\n",
    "\n",
    "**Maximum depth of 10: High Variance**\n",
    "\n",
    "   * Training score is high. Testing score is low\n",
    "   * There is a substantial gap between the training and testing scores.\n",
    "   * This indicates the model is fitting the dataset well but not generalizing well hence the model is suffering from high variance.\n",
    "\n",
    "## Question 6 - Best-Guess Optimal Model\n",
    "\n",
    "Which maximum depth do you think results in a model that best generalizes to unseen data? What intuition lead you to this answer?\n",
    "\n",
    "**Answer:**\n",
    "\n",
    "   * The maximum depth of 4.\n",
    "   * The training score seems to plateau here, indicating the highest possible score for the model's ability to generalize to unseen data.\n",
    "   * Gap between the training score and testing score does not seem to be substantial too, indicating that the model may not be suffering from a high variance scenario.\n",
    "   \n",
    "_____________________________________________________________________________________________________________________________\n",
    "\n",
    "## Evaluating Model Performance\n",
    "\n",
    "In this final section of the project, we will construct a model and make a prediction on the client's feature set using an optimized model from fit_model.\n",
    "\n",
    "## Question 7 - Grid Search\n",
    "\n",
    "What is the grid search technique and how it can be applied to optimize a learning algorithm?\n",
    "\n",
    "**Answer:**\n",
    "\n",
    "   * In essence, the grid search technique allows one to define a grid of parameters that will be searched using K-fold cross-validation.\n",
    "   * Importantly, the grid search technique exhaustively tries every combination of the provided hyper-parameter values in order to find the best model.\n",
    "   * One can then find the highest cross-validation accuracy that matches with the corresponding parameters that optimizes the learning algorithm.\n",
    "\n",
    "**Pro tip: RandomizedSearchCV**\n",
    "\n",
    "   * Although we will be using GridSearchCV, it may be computationally expensive for a bigger dataset.\n",
    "   * There are other techniques that could be used for hyperparameter optimization in order to save time like RandomizedSearchCV, in this case instead of exploring the whole parameter space just a fixed number of parameter settings is sampled from the specified distributions.\n",
    "   * This proves useful when we need to save time but is not necessary in cases in cases like ours where the data set is relatively small.\n",
    "\n",
    "\n",
    "## Question 8 - Cross-Validation\n",
    "\n",
    "What is the k-fold cross-validation training technique? What benefit does this technique provide for grid search when optimizing a model?\n",
    "Hint: Much like the reasoning behind having a testing set, what could go wrong with using grid search without a cross-validated set?\n",
    "\n",
    "**Answer:**\n",
    "\n",
    "   * K-fold cross-validation summary:\n",
    "       * Dataset is split into K \"folds\" of equal size.\n",
    "       * Each fold acts as the testing set 1 time, and acts as the training set K-1 times.\n",
    "       * Average testing performance is used as the estimate of out-of-sample performance.\n",
    "       * Also known as cross-validated performance.\n",
    "   * Benefits of k-fold cross-validation:\n",
    "       * More reliable estimate of out-of-sample performance than train/test split.\n",
    "       * Reduce the variance of a single trial of a train/test split.\n",
    "   * Hence, with the benefits of k-fold cross-validation, we're able to use the average testing accuracy as a benchmark to decide which is the most optimal set of parameters for the learning algorithm.\n",
    "       * If we do not use a cross-validation set and we run grid-search, we would have different sets of optimal parameters due to the fact that without a cross-validation set, the estimate of out-of-sample performance would have a high variance.\n",
    "       * In summary, without k-fold cross-validation the risk is higher that grid search will select hyper-parameter value combinations that perform very well on a specific train-test split but poorly otherwise.\n",
    "\n",
    "* Limitation of k-fold cross-validation:\n",
    "\n",
    "   * It does not work well when data is not uniformly distributed (e.g. sorted data).\n",
    "\n",
    "## Implementation: Fitting a Model\n",
    "\n",
    "Our final implementation requires that we bring everything together and train a model using the decision tree algorithm. To ensure that we are producing an optimized model, you will train the model using the grid search technique to optimize the 'max_depth' parameter for the decision tree. The 'max_depth' parameter can be thought of as how many questions the decision tree algorithm is allowed to ask about the data before making a prediction. Decision trees are part of a class of algorithms called supervised learning algorithms.\n",
    "\n",
    "For the fit_model function in the code cell below, we will need to implement the following:\n",
    "\n",
    "   * Use DecisionTreeRegressor from sklearn.tree to create a decision tree regressor object.\n",
    "        * Assign this object to the 'regressor' variable.\n",
    "   * Create a dictionary for 'max_depth' with the values from 1 to 10, and assign this to the 'params' variable.\n",
    "   * Use make_scorer from sklearn.metrics to create a scoring function object.\n",
    "       * Pass the performance_metric function as a parameter to the object.\n",
    "       * Assign this scoring function to the 'scoring_fnc' variable.\n",
    "   * Use GridSearchCV from sklearn.grid_search to create a grid search object.\n",
    "       * Pass the variables 'regressor', 'params', 'scoring_fnc', and 'cv_sets' as parameters to the object.\n",
    "       * Assign the GridSearchCV object to the 'grid' variable.\n",
    "\n",
    "**Using GridSearchCV**\n"
   ]
  },
  {
   "cell_type": "markdown",
   "metadata": {},
   "source": [
    "**Fitting a model**"
   ]
  },
  {
   "cell_type": "code",
   "execution_count": 29,
   "metadata": {},
   "outputs": [],
   "source": [
    "# TODO: Import 'make_scorer', 'DecisionTreeRegressor', and 'GridSearchCV'\n",
    "\n",
    "def fit_model(X, y):\n",
    "    \"\"\" Performs grid search over the 'max_depth' parameter for a \n",
    "        decision tree regressor trained on the input data [X, y]. \"\"\"\n",
    "    from sklearn.tree import DecisionTreeRegressor\n",
    "    from sklearn.grid_search import GridSearchCV\n",
    "    from sklearn.metrics import make_scorer\n",
    "    \n",
    "    # Create cross-validation sets from the training data\n",
    "    cv_sets = ShuffleSplit(X.shape[0], n_iter = 10, test_size = 0.20, random_state = 0)\n",
    "\n",
    "    # TODO: Create a decision tree regressor object\n",
    "    regressor = DecisionTreeRegressor()\n",
    "\n",
    "    # TODO: Create a dictionary for the parameter 'max_depth' with a range from 1 to 10\n",
    "    params = {'max_depth':np.arange(1,11)}\n",
    "\n",
    "    # TODO: Transform 'performance_metric' into a scoring function using 'make_scorer' \n",
    "    scoring_fnc = make_scorer(performance_metric)\n",
    "\n",
    "    # TODO: Create the grid search object\n",
    "    grid = GridSearchCV(regressor, param_grid = params, scoring = scoring_fnc, cv = cv_sets)\n",
    "\n",
    "    # Fit the grid search object to the data to compute the optimal model\n",
    "    grid = grid.fit(X, y)\n",
    "\n",
    "    # Return the optimal model after fitting the data\n",
    "    return grid.best_estimator_"
   ]
  },
  {
   "cell_type": "markdown",
   "metadata": {},
   "source": [
    "\n",
    "## Making Predictions\n",
    "\n",
    "Once a model has been trained on a given set of data, it can now be used to make predictions on new sets of input data. In the case of a decision tree regressor, the model has learned what the best questions to ask about the input data are, and can respond with a prediction for the target variable. You can use these predictions to gain information about data where the value of the target variable is unknown — such as data the model was not trained on.\n",
    "\n",
    "## Question 9 - Optimal Model\n",
    "\n",
    "What maximum depth does the optimal model have? How does this result compare to your guess in Question 6?\n",
    "\n",
    "Run the code block below to fit the decision tree regressor to the training data and produce an optimal model.\n"
   ]
  },
  {
   "cell_type": "code",
   "execution_count": 30,
   "metadata": {},
   "outputs": [
    {
     "name": "stdout",
     "output_type": "stream",
     "text": [
      "DecisionTreeRegressor(criterion='mse', max_depth=4, max_features=None,\n",
      "           max_leaf_nodes=None, min_impurity_decrease=0.0,\n",
      "           min_impurity_split=None, min_samples_leaf=1,\n",
      "           min_samples_split=2, min_weight_fraction_leaf=0.0,\n",
      "           presort=False, random_state=None, splitter='best')\n",
      "Parameter 'max_depth' is 4 for the optimal model.\n"
     ]
    }
   ],
   "source": [
    "# Fit the training data to the model using grid search\n",
    "reg = fit_model(X_train, y_train)\n",
    "print(reg)\n",
    "\n",
    "# Produce the value for 'max_depth'\n",
    "print(\"Parameter 'max_depth' is {} for the optimal model.\".format(reg.get_params()['max_depth']))\n"
   ]
  },
  {
   "cell_type": "markdown",
   "metadata": {},
   "source": [
    "So as we can see: 4!!"
   ]
  },
  {
   "cell_type": "code",
   "execution_count": 31,
   "metadata": {},
   "outputs": [
    {
     "data": {
      "text/plain": [
       "{'criterion': 'mse',\n",
       " 'max_depth': 4,\n",
       " 'max_features': None,\n",
       " 'max_leaf_nodes': None,\n",
       " 'min_impurity_decrease': 0.0,\n",
       " 'min_impurity_split': None,\n",
       " 'min_samples_leaf': 1,\n",
       " 'min_samples_split': 2,\n",
       " 'min_weight_fraction_leaf': 0.0,\n",
       " 'presort': False,\n",
       " 'random_state': None,\n",
       " 'splitter': 'best'}"
      ]
     },
     "execution_count": 31,
     "metadata": {},
     "output_type": "execute_result"
    }
   ],
   "source": [
    "reg = fit_model(X_train, y_train)\n",
    "reg.get_params()"
   ]
  },
  {
   "cell_type": "code",
   "execution_count": 32,
   "metadata": {},
   "outputs": [
    {
     "data": {
      "text/plain": [
       "4"
      ]
     },
     "execution_count": 32,
     "metadata": {},
     "output_type": "execute_result"
    }
   ],
   "source": [
    "# We can access our value from reg.get_params(), a dictionary, using dict['key']\n",
    "reg.get_params()['max_depth']"
   ]
  },
  {
   "cell_type": "markdown",
   "metadata": {},
   "source": [
    "\n",
    "\n",
    "**Answer:**\n",
    "\n",
    "   * The optimal model has a maximum depth of 4.\n",
    "   * The max depth is the same as my guess in question 6.\n",
    "\n"
   ]
  },
  {
   "cell_type": "markdown",
   "metadata": {},
   "source": [
    "## Question 10 - Predicting Selling Prices\n",
    "\n",
    "Imagine that you were a real estate agent in the Boston area looking to use this model to help price homes owned by your clients that they wish to sell. You have collected the following information from three of your clients:\n",
    "\n",
    "\n",
    "| Feature       | Client 1   | Client 2  | Client 3 |\n",
    "| ------------- | ------------- | ---------- | ----------- |\n",
    "| Total number of rooms in home     | 5 rooms | 5 rooms | 5 rooms |\n",
    "| Neighborhood poverty level (as %) | 17      |   32% | 3% |\n",
    "| Student-teacher ratio of nearby schools | 15-to-1     |    22-to-1 | 12-to-1 |\n",
    "\n",
    "What price would you recommend each client sell his/her home at? Do these prices seem reasonable given the values for the respective features?\n",
    "**Hint:** Use the statistics you calculated in the Data Exploration section to help justify your response.\n",
    "\n",
    "Run the code block below to have your optimized model make predictions for each client's home."
   ]
  },
  {
   "cell_type": "code",
   "execution_count": 34,
   "metadata": {},
   "outputs": [
    {
     "name": "stdout",
     "output_type": "stream",
     "text": [
      "Predicted selling price for Client 1's home: $406,933.33\n",
      "Predicted selling price for Client 2's home: $232,200.00\n",
      "Predicted selling price for Client 3's home: $938,053.85\n"
     ]
    }
   ],
   "source": [
    "# Produce a matrix for client data\n",
    "client_data = [[5, 17, 15], # Client 1\n",
    "               [4, 32, 22], # Client 2\n",
    "               [8, 3, 12]]  # Client 3\n",
    "\n",
    "# Show predictions\n",
    "for i, price in enumerate(reg.predict(client_data)):\n",
    "    print(\"Predicted selling price for Client {}'s home: ${:,.2f}\".format(i+1, price))"
   ]
  },
  {
   "cell_type": "markdown",
   "metadata": {},
   "source": [
    "\n",
    "**Answer:**\n",
    "\n",
    "**Prices to recommend**\n",
    "\n",
    "   * Client 1: 406,900\n",
    "   * Client 2: 232,200\n",
    "   * Client 3: 938,100\n",
    "\n",
    "**Data Exploration Findings**\n",
    "\n",
    "   * **Minimum price: $105000.00**\n",
    "   * **Maximum price: $1,024,800.00**\n",
    "   * **Mean price: $454,342.94**\n",
    "   * **Median price $438,900.00**\n",
    "   * **Standard deviation of prices: $165,340.28**\n",
    "\n",
    "** Reasonableness**\n",
    "\n",
    "  * The prices are rounded up to the nearest hundred as the prices in the dataset are all rounded to the nearest hundred.\n",
    "  * Compared to the data-exploration, it seems that the houses' prices from client 1 and client 2 are below the mean and median prices.\n",
    "       * For client 2, it seems reasonable due to the high poverty level and student-to-teacher ratio.\n",
    "       * For client 1, it also seems reasonable due to the average poverty level and student-to-teacher ratio.\n",
    "  *And the house's price from client 3 is way above the mean and median prices, nearing to the maximum price in the dataset.\n",
    "       * This seems reasonable given the low poverty level and student-to-teacher ratio with a high number of rooms.\n"
   ]
  },
  {
   "cell_type": "markdown",
   "metadata": {},
   "source": [
    "**Visualization**"
   ]
  },
  {
   "cell_type": "code",
   "execution_count": 36,
   "metadata": {},
   "outputs": [
    {
     "data": {
      "image/png": "[encoded data removed]",
      "text/plain": [
       "<Figure size 432x288 with 1 Axes>"
      ]
     },
     "metadata": {},
     "output_type": "display_data"
    }
   ],
   "source": [
    "import matplotlib.pyplot as plt\n",
    "plt.hist(prices, bins = 20)\n",
    "for price in reg.predict(client_data):\n",
    "    plt.axvline(price, lw = 5, c = 'r')"
   ]
  },
  {
   "cell_type": "markdown",
   "metadata": {},
   "source": [
    "\n",
    "\n",
    "**Pro tip: Assess Reasonableness of Prediction using NearestNeighbors**\n",
    "\n",
    "   * To assess if your prediction is reasonable, besides from comparing it with the median, the mean and checking if it is included in one standard deviation range, you could use SKlearn to find the nearest neighbours of the feature vector.\n",
    "   * You can then contrast your results with the closest neighbours, the ones that have similar characteristics.\n",
    "\n"
   ]
  },
  {
   "cell_type": "code",
   "execution_count": 37,
   "metadata": {},
   "outputs": [
    {
     "name": "stdout",
     "output_type": "stream",
     "text": [
      "280980.0\n",
      "The predicted 5 nearest neighbors price for home 1 is: $372,540.00\n",
      "The predicted 5 nearest neighbors price for home 2 is: $162,120.00\n",
      "The predicted 5 nearest neighbors price for home 3 is: $897,120.00\n"
     ]
    }
   ],
   "source": [
    "# Import NearestNeighbors\n",
    "from sklearn.neighbors import NearestNeighbors\n",
    "\n",
    "# Set number of neighbors\n",
    "num_neighbors=5\n",
    "\n",
    "def nearest_neighbor_price(x):\n",
    "    # x is your vector and X is the data set.\n",
    "    def find_nearest_neighbor_indexes(x, X):\n",
    "        # Instantiate\n",
    "        neigh = NearestNeighbors(num_neighbors)\n",
    "        # Fit\n",
    "        neigh.fit(X)\n",
    "        distance, indexes = neigh.kneighbors(x)\n",
    "        return indexes\n",
    "        # This returns, the position, say for example [4, 55, 22]\n",
    "        # array([[357, 397, 356, 141, 395]])\n",
    "    indexes = find_nearest_neighbor_indexes(x, features)\n",
    "    # Create list\n",
    "    sum_prices = []\n",
    "    # Loop through the array\n",
    "    for i in indexes:\n",
    "        # Append the prices to the list using the index position i\n",
    "        sum_prices.append(prices[i])\n",
    "    # Average prices\n",
    "    neighbor_avg = np.mean(sum_prices)\n",
    "    # Return average\n",
    "    return neighbor_avg\n",
    "\n",
    "# Test if it's working with a list [4, 55, 22]\n",
    "arr_test = np.array([4, 55, 22]).reshape(1, -1)\n",
    "print (nearest_neighbor_price(arr_test))\n",
    "\n",
    "# client_data = [[5, 17, 15], # Client 1\n",
    "               #[4, 32, 22], # Client 2\n",
    "               #[8, 3, 12]]  # Client 3\n",
    "\n",
    "# Loop through data, this is basically doing the following\n",
    "# print(nearest_neighbor_price([5, 17, 15]))\n",
    "# print(nearest_neighbor_price([4, 32, 22]))\n",
    "# print(nearest_neighbor_price([8, 3, 12]]))\n",
    "index = 0\n",
    "for i in client_data:\n",
    "    arr = np.array(i).reshape(1, -1)\n",
    "    val=nearest_neighbor_price(arr)\n",
    "    index += 1\n",
    "    # num_neighbours is constant at 5\n",
    "    # index changes from 1 to 2 to 3\n",
    "    # value changes respectively from $372,540.00 to $162,120.00 to $897,120.00\n",
    "    print(\"The predicted {} nearest neighbors price for home {} is: ${:,.2f}\".format(num_neighbors,index, val))"
   ]
  },
  {
   "cell_type": "code",
   "execution_count": 39,
   "metadata": {},
   "outputs": [
    {
     "name": "stdout",
     "output_type": "stream",
     "text": [
      "               RM       LSTAT     PTRATIO\n",
      "count  489.000000  489.000000  489.000000\n",
      "mean     6.240288   12.939632   18.516564\n",
      "std      0.643650    7.081990    2.111268\n",
      "min      3.561000    1.980000   12.600000\n",
      "25%      5.880000    7.370000   17.400000\n",
      "50%      6.185000   11.690000   19.100000\n",
      "75%      6.575000   17.120000   20.200000\n",
      "max      8.398000   37.970000   22.000000\n"
     ]
    }
   ],
   "source": [
    "print(features.describe())"
   ]
  },
  {
   "cell_type": "markdown",
   "metadata": {},
   "source": [
    "For these three given features in the model, all of them seem to be reasonable not only on intuition but also on empirical evidence.\n",
    "\n",
    "For Client 1: The predicting selling price falls in μ±σ. Given lower LSTAT than the average of features.LSTAT and both RM and PTRATIO close to their averages repectively, we might predict that Client 1 should expect a price slightly lower that average. Also, we might find that somehow the LSTAT takes a important role in the model.\n",
    "\n",
    "For Client 2: The predicting selling price falls in μ±2σ. All of three features are lower than the average, we might predict further lower price for Client 2.\n",
    "\n",
    "For Client 3: The predicting selling price greater than μ+3σ. All of three features are better than 75%(25% for LSTAT and PTRATIO), so we might predict a highr price for Client 3."
   ]
  },
  {
   "cell_type": "markdown",
   "metadata": {},
   "source": [
    "_____________________________________________________________________________________"
   ]
  },
  {
   "cell_type": "markdown",
   "metadata": {},
   "source": [
    "Statistics for Boston housing dataset:\n",
    "\n",
    "* Minimum price: $105,000.00\n",
    "* Maximum price: $1,024,800.00\n",
    "* Mean price: $454,342.94 \n",
    "* Median price $438,900.00\n",
    "\n",
    "Standard deviation of prices: $165,340.28\n",
    "\n",
    "* μ±σ: [$289,002.67, $619,683.22]\n",
    "* μ±2σ: [$123,662.39, $785,023.50]\n",
    "* μ±3σ: [$-41,677.89, $950,363.78]\n",
    "* Range: $919,800.00  \n",
    "* IQR: $168,000.00 \n",
    "\n",
    "Outlier: > $774,900.00 or < $102,900.00"
   ]
  },
  {
   "cell_type": "markdown",
   "metadata": {},
   "source": [
    "_______________________________________________________________________________________________"
   ]
  },
  {
   "cell_type": "markdown",
   "metadata": {},
   "source": [
    "\n",
    "**Sensitivity**\n",
    "\n",
    "An optimal model is not necessarily a robust model. Sometimes, a model is either too complex or too simple to sufficiently generalize to new data. Sometimes, a model could use a learning algorithm that is not appropriate for the structure of the data given. Other times, the data itself could be too noisy or contain too few samples to allow a model to adequately capture the target variable — i.e., the model is underfitted. Run the code cell below to run the fit_model function ten times with different training and testing sets to see how the prediction for a specific client changes with the data it's trained on.\n"
   ]
  },
  {
   "cell_type": "code",
   "execution_count": null,
   "metadata": {},
   "outputs": [],
   "source": [
    "vs.PredictTrials(features, prices, fit_model, client_data)"
   ]
  },
  {
   "cell_type": "markdown",
   "metadata": {},
   "source": [
    "Trial 1: $391,183.33\n",
    "\n",
    "Trial 2: $419,700.00\n",
    "\n",
    "Trial 3: $415,800.00\n",
    "\n",
    "Trial 4: $420,622.22\n",
    "\n",
    "Trial 5: $413,334.78\n",
    "\n",
    "Trial 6: $411,931.58\n",
    "\n",
    "Trial 7: $399,663.16\n",
    "\n",
    "Trial 8: $407,232.00\n",
    "\n",
    "Trial 9: $351,577.61\n",
    "\n",
    "Trial 10: $413,700.00\n",
    "\n",
    "**Range in prices:** $69,044.61\n",
    "\n"
   ]
  },
  {
   "cell_type": "markdown",
   "metadata": {},
   "source": [
    "## Question 11 - Applicability\n",
    "\n",
    "In a few sentences, discuss whether the constructed model should or should not be used in a real-world setting.\n",
    "Hint: Some questions to answering:\n",
    "\n",
    "   * How relevant today is data that was collected from 1978?\n",
    "   * Are the features present in the data sufficient to describe a home?\n",
    "   * Is the model robust enough to make consistent predictions?\n",
    "   * Would data collected in an urban city like Boston be applicable in a rural city?\n",
    "\n",
    "Answer:\n",
    "\n",
    "   * Data collected from a rural city may not be applicable as the demographics would change and other features may be better able to fit the dataset instead of a model with features that was learned using urban data.\n",
    "   * The learning algorithm learned from a very old dataset that may not be relevant because demographics have changed a lot since 1978.\n",
    "   * There are only 3 features currently, there are more features that can be included such as crime rates, nearby to city, public transport access and more.\n",
    "\n"
   ]
  }
 ],
 "metadata": {
  "kernelspec": {
   "display_name": "Python 3",
   "language": "python",
   "name": "python3"
  },
  "language_info": {
   "codemirror_mode": {
    "name": "ipython",
    "version": 3
   },
   "file_extension": ".py",
   "mimetype": "text/x-python",
   "name": "python",
   "nbconvert_exporter": "python",
   "pygments_lexer": "ipython3",
   "version": "3.6.5rc1"
  }
 },
 "nbformat": 4,
 "nbformat_minor": 2
}
